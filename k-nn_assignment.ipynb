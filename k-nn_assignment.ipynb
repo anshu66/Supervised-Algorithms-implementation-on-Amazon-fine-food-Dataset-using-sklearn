{
 "cells": [
  {
   "cell_type": "markdown",
   "metadata": {},
   "source": [
    "##  Amazon Fine Food Reviews Analysis"
   ]
  },
  {
   "cell_type": "markdown",
   "metadata": {},
   "source": [
    "### The Amazon Fine Food Reviews dataset consists of reviews of fine foods from Amazon.\n",
    "* Number of reviews: 568,454\n",
    "* Number of users: 256,059\n",
    "* Number of products: 74,258\n",
    "* Timespan: Oct 1999 - Oct 2012\n",
    "* Number of Attributes/Columns in data: 10"
   ]
  },
  {
   "cell_type": "markdown",
   "metadata": {},
   "source": [
    "### Attribute Information:\n",
    "* Id\n",
    "* ProductId - unique identifier for the product\n",
    "* UserId - unqiue identifier for the user\n",
    "* ProfileName\n",
    "* HelpfulnessNumerator - number of users who found the review helpful\n",
    "* HelpfulnessDenominator - number of users who indicated whether they found the review helpful or not\n",
    "* Score - rating between 1 and 5\n",
    "* Time - timestamp for the review\n",
    "* Summary - brief summary of the review\n",
    "* Text - text of the review"
   ]
  },
  {
   "cell_type": "markdown",
   "metadata": {},
   "source": [
    "### Objective:\n",
    "Find the right K for all like bow, tf-idf, avg w2v, tf-idf w2v and also report the test accuracy for the chosen K for all the techniques"
   ]
  },
  {
   "cell_type": "markdown",
   "metadata": {},
   "source": [
    "### Importing the libraries"
   ]
  },
  {
   "cell_type": "code",
   "execution_count": 1,
   "metadata": {},
   "outputs": [
    {
     "name": "stderr",
     "output_type": "stream",
     "text": [
      "C:\\Users\\abc\\Anaconda3\\lib\\site-packages\\sklearn\\cross_validation.py:41: DeprecationWarning: This module was deprecated in version 0.18 in favor of the model_selection module into which all the refactored classes and functions are moved. Also note that the interface of the new CV iterators are different from that of this module. This module will be removed in 0.20.\n",
      "  \"This module will be removed in 0.20.\", DeprecationWarning)\n",
      "C:\\Users\\abc\\Anaconda3\\lib\\site-packages\\gensim\\utils.py:1197: UserWarning: detected Windows; aliasing chunkize to chunkize_serial\n",
      "  warnings.warn(\"detected Windows; aliasing chunkize to chunkize_serial\")\n"
     ]
    }
   ],
   "source": [
    "import numpy as np\n",
    "import pandas as pd\n",
    "import matplotlib.pyplot as plt\n",
    "from sklearn.cross_validation import train_test_split\n",
    "from sklearn.neighbors import KNeighborsClassifier\n",
    "from sklearn.metrics import accuracy_score\n",
    "from sklearn.cross_validation import cross_val_score\n",
    "from collections import Counter\n",
    "from sklearn.metrics import accuracy_score\n",
    "from sklearn import cross_validation\n",
    "import string\n",
    "import sqlite3\n",
    "from sklearn.metrics import confusion_matrix\n",
    "import re\n",
    "import pickle\n",
    "from nltk.corpus import stopwords\n",
    "from nltk.stem import PorterStemmer\n",
    "from nltk.stem import SnowballStemmer\n",
    "from sklearn.decomposition import TruncatedSVD\n",
    "from sklearn.feature_extraction.text import CountVectorizer\n",
    "from sklearn.feature_extraction.text import TfidfVectorizer\n",
    "import gensim\n",
    "import warnings\n",
    "warnings.filterwarnings(\"ignore\")"
   ]
  },
  {
   "cell_type": "markdown",
   "metadata": {},
   "source": [
    "### Loading the Dataset"
   ]
  },
  {
   "cell_type": "code",
   "execution_count": 2,
   "metadata": {
    "collapsed": true
   },
   "outputs": [],
   "source": [
    "con = sqlite3.connect('F:/Applied AI Course/Amazon fine food review dataset/database.sqlite')"
   ]
  },
  {
   "cell_type": "code",
   "execution_count": 3,
   "metadata": {
    "collapsed": true
   },
   "outputs": [],
   "source": [
    "#filtering only positive and negative reviews i.e. \n",
    "# not taking into consideration those reviews with Score=3\n",
    "filtered_data = pd.read_sql_query(\"\"\" SELECT * FROM Reviews WHERE Score != 3 \"\"\", con) \n",
    "\n",
    "\n",
    "# Give reviews with Score>3 a positive rating, and reviews with a score<3 a negative rating.\n",
    "def partition(x):\n",
    "    if x < 3:\n",
    "        return 'negative'\n",
    "    return 'positive'\n",
    "\n",
    "#changing reviews with score less than 3 to be positive and vice-versa\n",
    "actualScore = filtered_data['Score']\n",
    "positiveNegative = actualScore.map(partition) \n",
    "filtered_data['Score'] = positiveNegative"
   ]
  },
  {
   "cell_type": "markdown",
   "metadata": {},
   "source": [
    "### Removing the duplicates"
   ]
  },
  {
   "cell_type": "code",
   "execution_count": 4,
   "metadata": {
    "collapsed": true
   },
   "outputs": [],
   "source": [
    "sorted_data=filtered_data.sort_values('ProductId', axis=0, ascending=True, inplace=False, kind='quicksort', na_position='last')\n",
    "\n",
    "final=sorted_data.drop_duplicates(subset={\"UserId\",\"ProfileName\",\"Time\",\"Text\"}, keep='first', inplace=False)"
   ]
  },
  {
   "cell_type": "code",
   "execution_count": 5,
   "metadata": {
    "collapsed": true
   },
   "outputs": [],
   "source": [
    "final=final[final.HelpfulnessNumerator<=final.HelpfulnessDenominator]"
   ]
  },
  {
   "cell_type": "code",
   "execution_count": 6,
   "metadata": {},
   "outputs": [
    {
     "data": {
      "text/plain": [
       "(364171, 10)"
      ]
     },
     "execution_count": 6,
     "metadata": {},
     "output_type": "execute_result"
    }
   ],
   "source": [
    "final.shape"
   ]
  },
  {
   "cell_type": "code",
   "execution_count": 7,
   "metadata": {},
   "outputs": [
    {
     "data": {
      "text/html": [
       "<div>\n",
       "<style>\n",
       "    .dataframe thead tr:only-child th {\n",
       "        text-align: right;\n",
       "    }\n",
       "\n",
       "    .dataframe thead th {\n",
       "        text-align: left;\n",
       "    }\n",
       "\n",
       "    .dataframe tbody tr th {\n",
       "        vertical-align: top;\n",
       "    }\n",
       "</style>\n",
       "<table border=\"1\" class=\"dataframe\">\n",
       "  <thead>\n",
       "    <tr style=\"text-align: right;\">\n",
       "      <th></th>\n",
       "      <th>Id</th>\n",
       "      <th>ProductId</th>\n",
       "      <th>UserId</th>\n",
       "      <th>ProfileName</th>\n",
       "      <th>HelpfulnessNumerator</th>\n",
       "      <th>HelpfulnessDenominator</th>\n",
       "      <th>Score</th>\n",
       "      <th>Time</th>\n",
       "      <th>Summary</th>\n",
       "      <th>Text</th>\n",
       "    </tr>\n",
       "  </thead>\n",
       "  <tbody>\n",
       "    <tr>\n",
       "      <th>138706</th>\n",
       "      <td>150524</td>\n",
       "      <td>0006641040</td>\n",
       "      <td>ACITT7DI6IDDL</td>\n",
       "      <td>shari zychinski</td>\n",
       "      <td>0</td>\n",
       "      <td>0</td>\n",
       "      <td>positive</td>\n",
       "      <td>939340800</td>\n",
       "      <td>EVERY book is educational</td>\n",
       "      <td>this witty little book makes my son laugh at l...</td>\n",
       "    </tr>\n",
       "    <tr>\n",
       "      <th>138688</th>\n",
       "      <td>150506</td>\n",
       "      <td>0006641040</td>\n",
       "      <td>A2IW4PEEKO2R0U</td>\n",
       "      <td>Tracy</td>\n",
       "      <td>1</td>\n",
       "      <td>1</td>\n",
       "      <td>positive</td>\n",
       "      <td>1194739200</td>\n",
       "      <td>Love the book, miss the hard cover version</td>\n",
       "      <td>I grew up reading these Sendak books, and watc...</td>\n",
       "    </tr>\n",
       "    <tr>\n",
       "      <th>138689</th>\n",
       "      <td>150507</td>\n",
       "      <td>0006641040</td>\n",
       "      <td>A1S4A3IQ2MU7V4</td>\n",
       "      <td>sally sue \"sally sue\"</td>\n",
       "      <td>1</td>\n",
       "      <td>1</td>\n",
       "      <td>positive</td>\n",
       "      <td>1191456000</td>\n",
       "      <td>chicken soup with rice months</td>\n",
       "      <td>This is a fun way for children to learn their ...</td>\n",
       "    </tr>\n",
       "    <tr>\n",
       "      <th>138690</th>\n",
       "      <td>150508</td>\n",
       "      <td>0006641040</td>\n",
       "      <td>AZGXZ2UUK6X</td>\n",
       "      <td>Catherine Hallberg \"(Kate)\"</td>\n",
       "      <td>1</td>\n",
       "      <td>1</td>\n",
       "      <td>positive</td>\n",
       "      <td>1076025600</td>\n",
       "      <td>a good swingy rhythm for reading aloud</td>\n",
       "      <td>This is a great little book to read aloud- it ...</td>\n",
       "    </tr>\n",
       "    <tr>\n",
       "      <th>138691</th>\n",
       "      <td>150509</td>\n",
       "      <td>0006641040</td>\n",
       "      <td>A3CMRKGE0P909G</td>\n",
       "      <td>Teresa</td>\n",
       "      <td>3</td>\n",
       "      <td>4</td>\n",
       "      <td>positive</td>\n",
       "      <td>1018396800</td>\n",
       "      <td>A great way to learn the months</td>\n",
       "      <td>This is a book of poetry about the months of t...</td>\n",
       "    </tr>\n",
       "  </tbody>\n",
       "</table>\n",
       "</div>"
      ],
      "text/plain": [
       "            Id   ProductId          UserId                  ProfileName  \\\n",
       "138706  150524  0006641040   ACITT7DI6IDDL              shari zychinski   \n",
       "138688  150506  0006641040  A2IW4PEEKO2R0U                        Tracy   \n",
       "138689  150507  0006641040  A1S4A3IQ2MU7V4        sally sue \"sally sue\"   \n",
       "138690  150508  0006641040     AZGXZ2UUK6X  Catherine Hallberg \"(Kate)\"   \n",
       "138691  150509  0006641040  A3CMRKGE0P909G                       Teresa   \n",
       "\n",
       "        HelpfulnessNumerator  HelpfulnessDenominator     Score        Time  \\\n",
       "138706                     0                       0  positive   939340800   \n",
       "138688                     1                       1  positive  1194739200   \n",
       "138689                     1                       1  positive  1191456000   \n",
       "138690                     1                       1  positive  1076025600   \n",
       "138691                     3                       4  positive  1018396800   \n",
       "\n",
       "                                           Summary  \\\n",
       "138706                   EVERY book is educational   \n",
       "138688  Love the book, miss the hard cover version   \n",
       "138689               chicken soup with rice months   \n",
       "138690      a good swingy rhythm for reading aloud   \n",
       "138691             A great way to learn the months   \n",
       "\n",
       "                                                     Text  \n",
       "138706  this witty little book makes my son laugh at l...  \n",
       "138688  I grew up reading these Sendak books, and watc...  \n",
       "138689  This is a fun way for children to learn their ...  \n",
       "138690  This is a great little book to read aloud- it ...  \n",
       "138691  This is a book of poetry about the months of t...  "
      ]
     },
     "execution_count": 7,
     "metadata": {},
     "output_type": "execute_result"
    }
   ],
   "source": [
    "final.head()"
   ]
  },
  {
   "cell_type": "markdown",
   "metadata": {},
   "source": [
    "### Creating a subset of the data"
   ]
  },
  {
   "cell_type": "code",
   "execution_count": 8,
   "metadata": {
    "collapsed": true
   },
   "outputs": [],
   "source": [
    "final=final.iloc[:100000,:]"
   ]
  },
  {
   "cell_type": "code",
   "execution_count": 9,
   "metadata": {},
   "outputs": [
    {
     "data": {
      "text/plain": [
       "(100000, 10)"
      ]
     },
     "execution_count": 9,
     "metadata": {},
     "output_type": "execute_result"
    }
   ],
   "source": [
    "final.shape"
   ]
  },
  {
   "cell_type": "code",
   "execution_count": 10,
   "metadata": {
    "collapsed": true
   },
   "outputs": [],
   "source": [
    "final = final.sort_values('Time',axis=0,kind=\"quicksort\", ascending=True,inplace=False).reset_index(drop=True)"
   ]
  },
  {
   "cell_type": "code",
   "execution_count": 11,
   "metadata": {},
   "outputs": [
    {
     "data": {
      "text/html": [
       "<div>\n",
       "<style>\n",
       "    .dataframe thead tr:only-child th {\n",
       "        text-align: right;\n",
       "    }\n",
       "\n",
       "    .dataframe thead th {\n",
       "        text-align: left;\n",
       "    }\n",
       "\n",
       "    .dataframe tbody tr th {\n",
       "        vertical-align: top;\n",
       "    }\n",
       "</style>\n",
       "<table border=\"1\" class=\"dataframe\">\n",
       "  <thead>\n",
       "    <tr style=\"text-align: right;\">\n",
       "      <th></th>\n",
       "      <th>Id</th>\n",
       "      <th>ProductId</th>\n",
       "      <th>UserId</th>\n",
       "      <th>ProfileName</th>\n",
       "      <th>HelpfulnessNumerator</th>\n",
       "      <th>HelpfulnessDenominator</th>\n",
       "      <th>Score</th>\n",
       "      <th>Time</th>\n",
       "      <th>Summary</th>\n",
       "      <th>Text</th>\n",
       "    </tr>\n",
       "  </thead>\n",
       "  <tbody>\n",
       "    <tr>\n",
       "      <th>0</th>\n",
       "      <td>150524</td>\n",
       "      <td>0006641040</td>\n",
       "      <td>ACITT7DI6IDDL</td>\n",
       "      <td>shari zychinski</td>\n",
       "      <td>0</td>\n",
       "      <td>0</td>\n",
       "      <td>positive</td>\n",
       "      <td>939340800</td>\n",
       "      <td>EVERY book is educational</td>\n",
       "      <td>this witty little book makes my son laugh at l...</td>\n",
       "    </tr>\n",
       "    <tr>\n",
       "      <th>1</th>\n",
       "      <td>150501</td>\n",
       "      <td>0006641040</td>\n",
       "      <td>AJ46FKXOVC7NR</td>\n",
       "      <td>Nicholas A Mesiano</td>\n",
       "      <td>2</td>\n",
       "      <td>2</td>\n",
       "      <td>positive</td>\n",
       "      <td>940809600</td>\n",
       "      <td>This whole series is great way to spend time w...</td>\n",
       "      <td>I can remember seeing the show when it aired o...</td>\n",
       "    </tr>\n",
       "    <tr>\n",
       "      <th>2</th>\n",
       "      <td>451856</td>\n",
       "      <td>B00004CXX9</td>\n",
       "      <td>AIUWLEQ1ADEG5</td>\n",
       "      <td>Elizabeth Medina</td>\n",
       "      <td>0</td>\n",
       "      <td>0</td>\n",
       "      <td>positive</td>\n",
       "      <td>944092800</td>\n",
       "      <td>Entertainingl Funny!</td>\n",
       "      <td>Beetlejuice is a well written movie ..... ever...</td>\n",
       "    </tr>\n",
       "    <tr>\n",
       "      <th>3</th>\n",
       "      <td>374359</td>\n",
       "      <td>B00004CI84</td>\n",
       "      <td>A344SMIA5JECGM</td>\n",
       "      <td>Vincent P. Ross</td>\n",
       "      <td>1</td>\n",
       "      <td>2</td>\n",
       "      <td>positive</td>\n",
       "      <td>944438400</td>\n",
       "      <td>A modern day fairy tale</td>\n",
       "      <td>A twist of rumplestiskin captured on film, sta...</td>\n",
       "    </tr>\n",
       "    <tr>\n",
       "      <th>4</th>\n",
       "      <td>451855</td>\n",
       "      <td>B00004CXX9</td>\n",
       "      <td>AJH6LUC1UT1ON</td>\n",
       "      <td>The Phantom of the Opera</td>\n",
       "      <td>0</td>\n",
       "      <td>0</td>\n",
       "      <td>positive</td>\n",
       "      <td>946857600</td>\n",
       "      <td>FANTASTIC!</td>\n",
       "      <td>Beetlejuice is an excellent and funny movie. K...</td>\n",
       "    </tr>\n",
       "  </tbody>\n",
       "</table>\n",
       "</div>"
      ],
      "text/plain": [
       "       Id   ProductId          UserId               ProfileName  \\\n",
       "0  150524  0006641040   ACITT7DI6IDDL           shari zychinski   \n",
       "1  150501  0006641040   AJ46FKXOVC7NR        Nicholas A Mesiano   \n",
       "2  451856  B00004CXX9   AIUWLEQ1ADEG5          Elizabeth Medina   \n",
       "3  374359  B00004CI84  A344SMIA5JECGM           Vincent P. Ross   \n",
       "4  451855  B00004CXX9   AJH6LUC1UT1ON  The Phantom of the Opera   \n",
       "\n",
       "   HelpfulnessNumerator  HelpfulnessDenominator     Score       Time  \\\n",
       "0                     0                       0  positive  939340800   \n",
       "1                     2                       2  positive  940809600   \n",
       "2                     0                       0  positive  944092800   \n",
       "3                     1                       2  positive  944438400   \n",
       "4                     0                       0  positive  946857600   \n",
       "\n",
       "                                             Summary  \\\n",
       "0                          EVERY book is educational   \n",
       "1  This whole series is great way to spend time w...   \n",
       "2                               Entertainingl Funny!   \n",
       "3                            A modern day fairy tale   \n",
       "4                                         FANTASTIC!   \n",
       "\n",
       "                                                Text  \n",
       "0  this witty little book makes my son laugh at l...  \n",
       "1  I can remember seeing the show when it aired o...  \n",
       "2  Beetlejuice is a well written movie ..... ever...  \n",
       "3  A twist of rumplestiskin captured on film, sta...  \n",
       "4  Beetlejuice is an excellent and funny movie. K...  "
      ]
     },
     "execution_count": 11,
     "metadata": {},
     "output_type": "execute_result"
    }
   ],
   "source": [
    "final.head()"
   ]
  },
  {
   "cell_type": "code",
   "execution_count": 12,
   "metadata": {},
   "outputs": [
    {
     "data": {
      "text/plain": [
       "positive    85197\n",
       "negative    14803\n",
       "Name: Score, dtype: int64"
      ]
     },
     "execution_count": 12,
     "metadata": {},
     "output_type": "execute_result"
    }
   ],
   "source": [
    "final['Score'].value_counts()"
   ]
  },
  {
   "cell_type": "markdown",
   "metadata": {},
   "source": [
    "### Data Preprocessing"
   ]
  },
  {
   "cell_type": "code",
   "execution_count": 41,
   "metadata": {},
   "outputs": [
    {
     "name": "stdout",
     "output_type": "stream",
     "text": [
      "tasti\n"
     ]
    }
   ],
   "source": [
    "import re\n",
    "import nltk\n",
    "sno = nltk.stem.SnowballStemmer('english') #initialising the snowball stemmer\n",
    "\n",
    "def cleanhtml(sentence): #function to clean the word of any html-tags\n",
    "    cleanr = re.compile('<.*?>')\n",
    "    cleantext = re.sub(cleanr, ' ', sentence)\n",
    "    return cleantext\n",
    "def cleanpunc(sentence): #function to clean the word of any punctuation or special characters\n",
    "    cleaned = re.sub('[^A-Za-z0-9]+','',sentence)\n",
    "    return  cleaned\n",
    "\n",
    "\n",
    "print(sno.stem('tasty'))"
   ]
  },
  {
   "cell_type": "code",
   "execution_count": 14,
   "metadata": {
    "collapsed": true
   },
   "outputs": [],
   "source": [
    "# this code takes a while to run as it needs to run on 500k sentences.\n",
    "i=0\n",
    "str1=' '\n",
    "final_string=[]\n",
    "all_positive_words=[] # store words from +ve reviews here\n",
    "all_negative_words=[] # store words from -ve reviews here.\n",
    "s=''\n",
    "for sent in final['Text'].values:\n",
    "    filtered_sentence=[]\n",
    "    #print(sent);\n",
    "    sent=cleanhtml(sent) # remove HTMl tags\n",
    "    for w in sent.split():\n",
    "        for cleaned_words in cleanpunc(w).split():\n",
    "            if((cleaned_words.isalpha()) & (len(cleaned_words)>2)):    \n",
    "                if(cleaned_words.lower()):\n",
    "                    s=(sno.stem(cleaned_words.lower())).encode('utf8')\n",
    "                    filtered_sentence.append(s)\n",
    "                    if (final['Score'].values)[i] == 'positive': \n",
    "                        all_positive_words.append(s) #list of all words used to describe positive reviews\n",
    "                    if(final['Score'].values)[i] == 'negative':\n",
    "                        all_negative_words.append(s) #list of all words used to describe negative reviews reviews\n",
    "                else:\n",
    "                    continue\n",
    "            else:\n",
    "                continue \n",
    "    #print(filtered_sentence)\n",
    "    str1 = b\" \".join(filtered_sentence) #final string of cleaned words\n",
    "    #print(\"***********************************************************************\")\n",
    "    \n",
    "    final_string.append(str1)\n",
    "    i+=1"
   ]
  },
  {
   "cell_type": "code",
   "execution_count": 15,
   "metadata": {
    "collapsed": true
   },
   "outputs": [],
   "source": [
    "final['CleanedText']=final_string\n",
    "final['CleanedText']=final['CleanedText'].str.decode(\"utf-8\")"
   ]
  },
  {
   "cell_type": "code",
   "execution_count": 16,
   "metadata": {
    "collapsed": true
   },
   "outputs": [],
   "source": [
    "final.to_pickle('100k_knn_data.pkl')"
   ]
  },
  {
   "cell_type": "code",
   "execution_count": 2,
   "metadata": {
    "collapsed": true
   },
   "outputs": [],
   "source": [
    "final=pd.read_pickle('100k_knn_data.pkl')"
   ]
  },
  {
   "cell_type": "code",
   "execution_count": 3,
   "metadata": {},
   "outputs": [
    {
     "data": {
      "text/plain": [
       "(100000, 11)"
      ]
     },
     "execution_count": 3,
     "metadata": {},
     "output_type": "execute_result"
    }
   ],
   "source": [
    "final.shape\n"
   ]
  },
  {
   "cell_type": "code",
   "execution_count": 3,
   "metadata": {
    "collapsed": true
   },
   "outputs": [],
   "source": [
    "final=final.iloc[:50000,:]"
   ]
  },
  {
   "cell_type": "code",
   "execution_count": 4,
   "metadata": {
    "collapsed": true
   },
   "outputs": [],
   "source": [
    "X = final[\"CleanedText\"]\n",
    "y = final[\"Score\"]"
   ]
  },
  {
   "cell_type": "code",
   "execution_count": 77,
   "metadata": {},
   "outputs": [
    {
     "name": "stdout",
     "output_type": "stream",
     "text": [
      "0        this witti littl book make son laugh loud reci...\n",
      "1        can rememb see the show when air televis year ...\n",
      "2        beetlejuic well written movi everyth about exc...\n",
      "3        twist rumplestiskin captur film star michael k...\n",
      "4        beetlejuic excel and funni movi keaton hilari ...\n",
      "5        this one movi that should your movi collect fi...\n",
      "6        myself alway enjoy this movi it veri funni and...\n",
      "7        bought few these after apart was infest with f...\n",
      "8        what happen when you say his name three time m...\n",
      "9        get crazyim look for beatlejuic french version...\n",
      "10       get crazi realli imposs today not find the fre...\n",
      "11       this was realli good idea and the final produc...\n",
      "12       just receiv shipment and could hard wait tri t...\n",
      "13       have just recent purchas the woodstream corp g...\n",
      "14       this are much easier use than the wilson past ...\n",
      "15       these are easi use they not make mess and offe...\n",
      "16       this such great film dont even know how sum fi...\n",
      "17       beetlejuic aweinspir wonder amus comed romp th...\n",
      "18       sick scad nasti toothpick all over counter whe...\n",
      "19       thought this movi was funni michael keaton bee...\n",
      "20       mani movi have dealt with the figur death and ...\n",
      "21       dont know whi anyon would ever use those littl...\n",
      "22       michael keaton bring distinguish characterist ...\n",
      "23       continu amaz the shoddi treatment that some mo...\n",
      "24       just warn you when tri trick you the widescree...\n",
      "25       bought these decor some dia los muerto skull w...\n",
      "26       winona ryder hot hot hot the gothic deathrock ...\n",
      "27       this was favorit book mine when was littl girl...\n",
      "28       for year have been tri simul truli italian esp...\n",
      "29       when vacat adam and barbara maitland meet thei...\n",
      "                               ...                        \n",
      "49970    this rub super it just great know peopl that d...\n",
      "49971    order this gum for game and the prize guess ho...\n",
      "49972    have purchas the sever time and have never had...\n",
      "49973    best bread gluten free far easi with bread mac...\n",
      "49974    this light breakfast brew not for those who dr...\n",
      "49975    use this when cook shrimp shred chicken taco b...\n",
      "49976    after read anoth review this coffe gave tri no...\n",
      "49977    dont fool the name these are not the real will...\n",
      "49978    same complaint made elsewher this product horr...\n",
      "49979    probabl the best bbq sauc have ever use have t...\n",
      "49980    local purchas organ wheatgrass seed more expen...\n",
      "49981    put all the trap out unfinish basement did cat...\n",
      "49982    was recommend this product pet store employe w...\n",
      "49983    these are simpli the best dark chocol cooki iv...\n",
      "49984    have acid reflux for coupl year doe bother lot...\n",
      "49985    realli enjoy custard but not like make from sc...\n",
      "49986    wasnt sure exact what expect but these are ver...\n",
      "49987    like this stuff becaus tast just like sugar bu...\n",
      "49988    you have time the morn for sit down breakfast ...\n",
      "49989    about order more this twine afternoon tea that...\n",
      "49990    outstand this difficult find product tasti and...\n",
      "49991    have found that this tea has spoil for other b...\n",
      "49992    most peopl love peanut but few brand provid qu...\n",
      "49993    love this bbq sauc husband bbq enthusiast and ...\n",
      "49994    the best peach flavor tea have ever foundthank...\n",
      "49995    bought this rome and just got home and open wo...\n",
      "49996    dont know what go the groceri store but use lo...\n",
      "49997    these are definit the best granola bar ive tas...\n",
      "49998    continu disappoint with the qualiti the camel ...\n",
      "49999    our dog get pumpkin mix with her dri food groc...\n",
      "Name: CleanedText, Length: 50000, dtype: object\n"
     ]
    }
   ],
   "source": [
    "print(X)"
   ]
  },
  {
   "cell_type": "code",
   "execution_count": 5,
   "metadata": {
    "collapsed": true
   },
   "outputs": [],
   "source": [
    "import math\n",
    "X_1=X[:math.ceil(len(final)*.8)]\n"
   ]
  },
  {
   "cell_type": "code",
   "execution_count": 6,
   "metadata": {},
   "outputs": [
    {
     "name": "stdout",
     "output_type": "stream",
     "text": [
      "(40000,) (40000,) (10000,)\n"
     ]
    }
   ],
   "source": [
    "y_1=y[:math.ceil(len(final)*.8)]\n",
    "X_test=X[math.ceil(len(final)*.8):]\n",
    "y_test=y[math.ceil(len(final)*.8):]\n",
    "\n",
    "print(X_1.shape,y_1.shape,X_test.shape)"
   ]
  },
  {
   "cell_type": "code",
   "execution_count": 7,
   "metadata": {},
   "outputs": [
    {
     "name": "stdout",
     "output_type": "stream",
     "text": [
      "(30000,) (30000,) (10000,)\n"
     ]
    }
   ],
   "source": [
    "X_train=X_1[:math.ceil(len(final)*.6)]\n",
    "y_train=y_1[:math.ceil(len(final)*.6)]\n",
    "X_CV=X_1[math.ceil(len(final)*.6):]\n",
    "y_CV=y_1[math.ceil(len(final)*.6):]\n",
    "\n",
    "print(X_train.shape,y_train.shape,X_CV.shape)"
   ]
  },
  {
   "cell_type": "markdown",
   "metadata": {},
   "source": [
    "### Calculating K using BOW"
   ]
  },
  {
   "cell_type": "code",
   "execution_count": 8,
   "metadata": {
    "collapsed": true
   },
   "outputs": [],
   "source": [
    "count_vect = CountVectorizer() #in scikit-learn\n",
    "X_train = count_vect.fit_transform(X_train)"
   ]
  },
  {
   "cell_type": "code",
   "execution_count": 9,
   "metadata": {
    "collapsed": true
   },
   "outputs": [],
   "source": [
    "X_test = count_vect.transform(X_test)\n",
    "X_CV=count_vect.transform(X_CV)"
   ]
  },
  {
   "cell_type": "markdown",
   "metadata": {},
   "source": [
    "### Performing knn using brute force algorithm"
   ]
  },
  {
   "cell_type": "code",
   "execution_count": 12,
   "metadata": {
    "collapsed": true
   },
   "outputs": [],
   "source": [
    "myList = list(range(0,20))\n",
    "neighbors = list(filter(lambda x: x % 2 != 0, myList))"
   ]
  },
  {
   "cell_type": "code",
   "execution_count": 13,
   "metadata": {},
   "outputs": [
    {
     "name": "stdout",
     "output_type": "stream",
     "text": [
      "\n",
      "CV accuracy for k = 1 is 83%\n",
      "\n",
      "CV accuracy for k = 3 is 87%\n",
      "\n",
      "CV accuracy for k = 5 is 87%\n",
      "\n",
      "CV accuracy for k = 7 is 87%\n",
      "\n",
      "CV accuracy for k = 9 is 87%\n",
      "\n",
      "CV accuracy for k = 11 is 87%\n",
      "\n",
      "CV accuracy for k = 13 is 87%\n",
      "\n",
      "CV accuracy for k = 15 is 87%\n",
      "\n",
      "CV accuracy for k = 17 is 87%\n",
      "\n",
      "CV accuracy for k = 19 is 87%\n"
     ]
    }
   ],
   "source": [
    "cv_scores = []\n",
    "\n",
    "    # perform 10-fold cross validation\n",
    "for k in neighbors:\n",
    "    knn = KNeighborsClassifier(n_neighbors=k, algorithm = \"brute\")\n",
    "     # fitting the model on crossvalidation train\n",
    "    knn.fit(X_train, y_train)\n",
    "    # predict the response on the crossvalidation train\n",
    "    pred = knn.predict(X_CV)\n",
    "     # evaluate CV accuracy\n",
    "    acc = accuracy_score(y_CV, pred, normalize=True) * float(100)\n",
    "    cv_scores.append(acc)\n",
    "    print('\\nCV accuracy for k = %d is %d%%' % (k, acc))"
   ]
  },
  {
   "cell_type": "code",
   "execution_count": 14,
   "metadata": {
    "collapsed": true
   },
   "outputs": [],
   "source": [
    "MSE = [100 - x for x in cv_scores]"
   ]
  },
  {
   "cell_type": "code",
   "execution_count": 15,
   "metadata": {},
   "outputs": [
    {
     "name": "stdout",
     "output_type": "stream",
     "text": [
      "\n",
      "The optimal number of neighbors is 7.\n"
     ]
    }
   ],
   "source": [
    "optimal_k = neighbors[MSE.index(min(MSE))]\n",
    "print('\\nThe optimal number of neighbors is %d.' % optimal_k)"
   ]
  },
  {
   "cell_type": "code",
   "execution_count": 16,
   "metadata": {},
   "outputs": [
    {
     "data": {
      "text/plain": [
       "KNeighborsClassifier(algorithm='brute', leaf_size=30, metric='minkowski',\n",
       "           metric_params=None, n_jobs=1, n_neighbors=7, p=2,\n",
       "           weights='uniform')"
      ]
     },
     "execution_count": 16,
     "metadata": {},
     "output_type": "execute_result"
    }
   ],
   "source": [
    "knn_optimal = KNeighborsClassifier(n_neighbors=optimal_k,algorithm='brute')\n",
    "\n",
    "# fitting the model\n",
    "knn_optimal.fit(X_train, y_train)\n"
   ]
  },
  {
   "cell_type": "code",
   "execution_count": 17,
   "metadata": {
    "collapsed": true
   },
   "outputs": [],
   "source": [
    "pred = knn_optimal.predict(X_test)\n"
   ]
  },
  {
   "cell_type": "code",
   "execution_count": 18,
   "metadata": {},
   "outputs": [
    {
     "name": "stdout",
     "output_type": "stream",
     "text": [
      "\n",
      "The accuracy of the knn classifier for k = 7 is 86.670000%\n"
     ]
    }
   ],
   "source": [
    "acc = accuracy_score(y_test, pred) * 100\n",
    "print('\\nThe accuracy of the knn classifier for k = %d is %f%%' % (optimal_k, acc))"
   ]
  },
  {
   "cell_type": "code",
   "execution_count": 24,
   "metadata": {
    "collapsed": true
   },
   "outputs": [],
   "source": [
    "from sklearn.metrics import confusion_matrix\n",
    "import seaborn as sns"
   ]
  },
  {
   "cell_type": "code",
   "execution_count": 25,
   "metadata": {
    "collapsed": true
   },
   "outputs": [],
   "source": [
    "array=confusion_matrix(y_test, pred)"
   ]
  },
  {
   "cell_type": "code",
   "execution_count": 30,
   "metadata": {},
   "outputs": [
    {
     "data": {
      "image/png": "[encoded data removed]",
      "text/plain": [
       "<matplotlib.figure.Figure at 0x1f7935c9198>"
      ]
     },
     "metadata": {},
     "output_type": "display_data"
    }
   ],
   "source": [
    "df_cm = pd.DataFrame(array, range(2),\n",
    "                  range(2))\n",
    "#plt.figure(figsize = (10,7))\n",
    "sns.set(font_scale=1.4)#for label size\n",
    "sns.heatmap(df_cm, annot=True,annot_kws={\"size\": 16})\n",
    "plt.show()"
   ]
  },
  {
   "cell_type": "code",
   "execution_count": 31,
   "metadata": {
    "collapsed": true
   },
   "outputs": [],
   "source": [
    "from sklearn.metrics import classification_report"
   ]
  },
  {
   "cell_type": "code",
   "execution_count": 32,
   "metadata": {},
   "outputs": [
    {
     "name": "stdout",
     "output_type": "stream",
     "text": [
      "             precision    recall  f1-score   support\n",
      "\n",
      "   negative       0.63      0.04      0.08      1357\n",
      "   positive       0.87      1.00      0.93      8643\n",
      "\n",
      "avg / total       0.84      0.87      0.81     10000\n",
      "\n"
     ]
    }
   ],
   "source": [
    "print(classification_report(y_test ,pred))"
   ]
  },
  {
   "cell_type": "markdown",
   "metadata": {},
   "source": [
    "### confusion matrix described\n",
    "\n",
    "In above confusion matrix(used to describe performence of classifier)\n",
    "\n",
    "* tn(true negative) = 58, tp(true positive) = 8600, fn(false negative) = 34, fp(false positive) = 1300\n",
    "* And as it is shows in classification report overall accuracy(i.e. how often is the classifier correct?) = (tp+tn)/total = (8600+58)/10000 = ~86.67%\n",
    "* And Overall error rate/misclassification rate or 1-accuracy(i.e. how often it is wrong?) --> (fn+fp)/total = (34+1300)/10000 = ~13.33%\n",
    "* precision --> When it predicts +ve, how often is it correct? = tp/predicted +ve = 8600/9900 = ~86.86%\n",
    "* True Positive rate(tpr)/recall --> When it is actually +ve, how often does it predict +ve? = tp/(real/true/actual +ve) = 8600/8634 = ~99.6%\n",
    "* Specificity(True Negative Rate)--> When it's actually no, how often does it predict no? = tn/actual negative = 58/1357 = ~4.2%. The best specificity is 1.0, whereas the worst is 0.0 .\n",
    "* False Positive rate --> when it is actually -ve, how often does it predicted +ve = fp/actual-ve = 1300/1357 = ~95.7%\n",
    "* F1 score/F-score/F-measure is weighted avg of precision and recall(tpr)=0.928\n",
    "* support is number of elements in each class(+ve and -ve)."
   ]
  },
  {
   "cell_type": "markdown",
   "metadata": {},
   "source": [
    "### Performing knn using kd-tree algorithm \n"
   ]
  },
  {
   "cell_type": "code",
   "execution_count": 10,
   "metadata": {
    "collapsed": true
   },
   "outputs": [],
   "source": [
    "from sklearn.decomposition import TruncatedSVD\n",
    "svd = TruncatedSVD(n_components=300)\n",
    "X_train=svd.fit_transform(X_train)\n",
    "X_test=svd.transform(X_test)\n",
    "X_CV=svd.transform(X_CV)"
   ]
  },
  {
   "cell_type": "code",
   "execution_count": 13,
   "metadata": {},
   "outputs": [
    {
     "name": "stdout",
     "output_type": "stream",
     "text": [
      "\n",
      "CV accuracy for k = 1 is 81%\n",
      "\n",
      "CV accuracy for k = 3 is 85%\n",
      "\n",
      "CV accuracy for k = 5 is 86%\n",
      "\n",
      "CV accuracy for k = 7 is 87%\n",
      "\n",
      "CV accuracy for k = 9 is 87%\n",
      "\n",
      "CV accuracy for k = 11 is 87%\n",
      "\n",
      "CV accuracy for k = 13 is 87%\n",
      "\n",
      "CV accuracy for k = 15 is 87%\n",
      "\n",
      "CV accuracy for k = 17 is 87%\n",
      "\n",
      "CV accuracy for k = 19 is 87%\n"
     ]
    }
   ],
   "source": [
    "cv_scores = []\n",
    "\n",
    "    # perform 10-fold cross validation\n",
    "for k in neighbors:\n",
    "    knn = KNeighborsClassifier(n_neighbors=k, algorithm = \"kd_tree\")\n",
    "     # fitting the model on crossvalidation train\n",
    "    knn.fit(X_train, y_train)\n",
    "    # predict the response on the crossvalidation train\n",
    "    pred = knn.predict(X_CV)\n",
    "     # evaluate CV accuracy\n",
    "    acc = accuracy_score(y_CV, pred, normalize=True) * float(100)\n",
    "    cv_scores.append(acc)\n",
    "    print('\\nCV accuracy for k = %d is %d%%' % (k, acc))"
   ]
  },
  {
   "cell_type": "code",
   "execution_count": 14,
   "metadata": {
    "collapsed": true
   },
   "outputs": [],
   "source": [
    "MSE = [1 - x for x in cv_scores]"
   ]
  },
  {
   "cell_type": "code",
   "execution_count": 15,
   "metadata": {},
   "outputs": [
    {
     "name": "stdout",
     "output_type": "stream",
     "text": [
      "\n",
      "The optimal number of neighbors is 15.\n"
     ]
    }
   ],
   "source": [
    "optimal_k = neighbors[MSE.index(min(MSE))]\n",
    "print('\\nThe optimal number of neighbors is %d.' % optimal_k)"
   ]
  },
  {
   "cell_type": "code",
   "execution_count": 16,
   "metadata": {},
   "outputs": [
    {
     "data": {
      "text/plain": [
       "KNeighborsClassifier(algorithm='kd_tree', leaf_size=30, metric='minkowski',\n",
       "           metric_params=None, n_jobs=1, n_neighbors=15, p=2,\n",
       "           weights='uniform')"
      ]
     },
     "execution_count": 16,
     "metadata": {},
     "output_type": "execute_result"
    }
   ],
   "source": [
    "knn_optimal = KNeighborsClassifier(n_neighbors=optimal_k,algorithm='kd_tree')\n",
    "\n",
    "# fitting the model\n",
    "knn_optimal.fit(X_train, y_train)\n"
   ]
  },
  {
   "cell_type": "code",
   "execution_count": 17,
   "metadata": {
    "collapsed": true
   },
   "outputs": [],
   "source": [
    "pred = knn_optimal.predict(X_test)"
   ]
  },
  {
   "cell_type": "code",
   "execution_count": 18,
   "metadata": {},
   "outputs": [
    {
     "name": "stdout",
     "output_type": "stream",
     "text": [
      "\n",
      "The accuracy of the knn classifier for k = 15 is 86.930000%\n"
     ]
    }
   ],
   "source": [
    "acc = accuracy_score(y_test, pred) * 100\n",
    "print('\\nThe accuracy of the knn classifier for k = %d is %f%%' % (optimal_k, acc))"
   ]
  },
  {
   "cell_type": "code",
   "execution_count": 26,
   "metadata": {},
   "outputs": [
    {
     "name": "stdout",
     "output_type": "stream",
     "text": [
      "F1 Score is:\n",
      "0.818305395353\n"
     ]
    }
   ],
   "source": [
    "from sklearn.metrics import f1_score\n",
    "print(\"F1 Score is:\")\n",
    "print(f1_score(y_test, pred, average='weighted'))\n"
   ]
  },
  {
   "cell_type": "markdown",
   "metadata": {},
   "source": [
    "### Calculating K using tf-idf"
   ]
  },
  {
   "cell_type": "code",
   "execution_count": 27,
   "metadata": {},
   "outputs": [
    {
     "name": "stdout",
     "output_type": "stream",
     "text": [
      "(40000,) (40000,) (10000,)\n"
     ]
    }
   ],
   "source": [
    "X_1=X[:math.ceil(len(final)*.8)]\n",
    "y_1=y[:math.ceil(len(final)*.8)]\n",
    "X_test=X[math.ceil(len(final)*.8):]\n",
    "y_test=y[math.ceil(len(final)*.8):]\n",
    "\n",
    "print(X_1.shape,y_1.shape,X_test.shape)"
   ]
  },
  {
   "cell_type": "code",
   "execution_count": 28,
   "metadata": {},
   "outputs": [
    {
     "name": "stdout",
     "output_type": "stream",
     "text": [
      "(30000,) (30000,) (10000,)\n"
     ]
    }
   ],
   "source": [
    "X_train=X_1[:math.ceil(len(final)*.6)]\n",
    "y_train=y_1[:math.ceil(len(final)*.6)]\n",
    "X_CV=X_1[math.ceil(len(final)*.6):]\n",
    "y_CV=y_1[math.ceil(len(final)*.6):]\n",
    "\n",
    "print(X_train.shape,y_train.shape,X_CV.shape)"
   ]
  },
  {
   "cell_type": "code",
   "execution_count": 29,
   "metadata": {
    "collapsed": true
   },
   "outputs": [],
   "source": [
    "tf_idf_vect = TfidfVectorizer()\n",
    "X_train = tf_idf_vect.fit_transform(X_train)"
   ]
  },
  {
   "cell_type": "code",
   "execution_count": 30,
   "metadata": {
    "collapsed": true
   },
   "outputs": [],
   "source": [
    "X_test=tf_idf_vect.transform(X_test)\n",
    "X_CV=tf_idf_vect.transform(X_CV)"
   ]
  },
  {
   "cell_type": "markdown",
   "metadata": {},
   "source": [
    "### Performing knn using brute force algorithm"
   ]
  },
  {
   "cell_type": "code",
   "execution_count": 43,
   "metadata": {},
   "outputs": [
    {
     "name": "stdout",
     "output_type": "stream",
     "text": [
      "\n",
      "CV accuracy for k = 1 is 85%\n",
      "\n",
      "CV accuracy for k = 3 is 87%\n",
      "\n",
      "CV accuracy for k = 5 is 88%\n",
      "\n",
      "CV accuracy for k = 7 is 88%\n",
      "\n",
      "CV accuracy for k = 9 is 88%\n",
      "\n",
      "CV accuracy for k = 11 is 88%\n",
      "\n",
      "CV accuracy for k = 13 is 88%\n",
      "\n",
      "CV accuracy for k = 15 is 87%\n",
      "\n",
      "CV accuracy for k = 17 is 87%\n",
      "\n",
      "CV accuracy for k = 19 is 87%\n"
     ]
    }
   ],
   "source": [
    "cv_scores = []\n",
    "\n",
    "    # perform 10-fold cross validation\n",
    "for k in neighbors:\n",
    "    knn = KNeighborsClassifier(n_neighbors=k, algorithm = \"brute\")\n",
    "     # fitting the model on crossvalidation train\n",
    "    knn.fit(X_train, y_train)\n",
    "    # predict the response on the crossvalidation train\n",
    "    pred = knn.predict(X_CV)\n",
    "     # evaluate CV accuracy\n",
    "    acc = accuracy_score(y_CV, pred, normalize=True) * float(100)\n",
    "    cv_scores.append(acc)\n",
    "    print('\\nCV accuracy for k = %d is %d%%' % (k, acc))"
   ]
  },
  {
   "cell_type": "code",
   "execution_count": 44,
   "metadata": {},
   "outputs": [
    {
     "name": "stdout",
     "output_type": "stream",
     "text": [
      "\n",
      "The optimal number of neighbors is 7.\n"
     ]
    }
   ],
   "source": [
    "MSE = [1 - x for x in cv_scores]\n",
    "optimal_k = neighbors[MSE.index(min(MSE))]\n",
    "print('\\nThe optimal number of neighbors is %d.' % optimal_k)"
   ]
  },
  {
   "cell_type": "code",
   "execution_count": 45,
   "metadata": {},
   "outputs": [
    {
     "data": {
      "text/plain": [
       "KNeighborsClassifier(algorithm='brute', leaf_size=30, metric='minkowski',\n",
       "           metric_params=None, n_jobs=1, n_neighbors=7, p=2,\n",
       "           weights='uniform')"
      ]
     },
     "execution_count": 45,
     "metadata": {},
     "output_type": "execute_result"
    }
   ],
   "source": [
    "knn_optimal = KNeighborsClassifier(n_neighbors=optimal_k,algorithm='brute')\n",
    "\n",
    "# fitting the model\n",
    "knn_optimal.fit(X_train, y_train)"
   ]
  },
  {
   "cell_type": "code",
   "execution_count": 46,
   "metadata": {
    "collapsed": true
   },
   "outputs": [],
   "source": [
    "pred = knn_optimal.predict(X_test)"
   ]
  },
  {
   "cell_type": "code",
   "execution_count": 47,
   "metadata": {},
   "outputs": [
    {
     "name": "stdout",
     "output_type": "stream",
     "text": [
      "\n",
      "The accuracy of the knn classifier for k = 7 is 87.520000%\n"
     ]
    }
   ],
   "source": [
    "acc = accuracy_score(y_test, pred) * 100\n",
    "print('\\nThe accuracy of the knn classifier for k = %d is %f%%' % (optimal_k, acc))"
   ]
  },
  {
   "cell_type": "code",
   "execution_count": 48,
   "metadata": {},
   "outputs": [
    {
     "data": {
      "image/png": "[encoded data removed]",
      "text/plain": [
       "<matplotlib.figure.Figure at 0x1f7935aff98>"
      ]
     },
     "metadata": {},
     "output_type": "display_data"
    }
   ],
   "source": [
    "array=confusion_matrix(y_test, pred)\n",
    "df_cm = pd.DataFrame(array, range(2),\n",
    "                  range(2))\n",
    "#plt.figure(figsize = (10,7))\n",
    "sns.set(font_scale=1.4)#for label size\n",
    "sns.heatmap(df_cm, annot=True,annot_kws={\"size\": 16})\n",
    "plt.show()"
   ]
  },
  {
   "cell_type": "code",
   "execution_count": 49,
   "metadata": {},
   "outputs": [
    {
     "name": "stdout",
     "output_type": "stream",
     "text": [
      "             precision    recall  f1-score   support\n",
      "\n",
      "   negative       0.70      0.14      0.24      1357\n",
      "   positive       0.88      0.99      0.93      8643\n",
      "\n",
      "avg / total       0.86      0.88      0.84     10000\n",
      "\n"
     ]
    }
   ],
   "source": [
    "print(classification_report(y_test ,pred))"
   ]
  },
  {
   "cell_type": "markdown",
   "metadata": {},
   "source": [
    "### confusion matrix described\n",
    "\n",
    "In above confusion matrix(used to describe performence of classifier)\n",
    "\n",
    "* tn(true negative) = 190, tp(true positive) = 8600, fn(false negative) = 84, fp(false positive) = 1200\n",
    "* And as it is shows in classification report overall accuracy(i.e. how often is the classifier correct?) = (tp+tn)/total = (8600+190)/10000 = ~87.9%\n",
    "* And Overall error rate/misclassification rate or 1-accuracy(i.e. how often it is wrong?) --> (fn+fp)/total = (84+1200)/10000 = ~12.7%\n",
    "* precision --> When it predicts +ve, how often is it correct? = tp/predicted +ve = 8600/9800 = ~87.7%\n",
    "* True Positive rate(tpr)/recall --> When it is actually +ve, how often does it predict +ve? = tp/(real/true/actual +ve) = 8600/8643 = ~99.6%\n",
    "* Specificity(True Negative Rate)--> When it's actually no, how often does it predict no? = tn/actual negative = 190/1357 = ~14%. The best specificity is 1.0, whereas the worst is 0.0 .\n",
    "* False Positive rate --> when it is actually -ve, how often does it predicted +ve = fp/actual-ve = 1200/1357 = ~88.4%\n",
    "* F1 score/F-score/F-measure is weighted avg of precision and recall(tpr)=0.92\n",
    "* support is number of elements in each class(+ve and -ve)."
   ]
  },
  {
   "cell_type": "markdown",
   "metadata": {},
   "source": [
    "### Performing knn using kd-tree algorithm"
   ]
  },
  {
   "cell_type": "code",
   "execution_count": 31,
   "metadata": {
    "collapsed": true
   },
   "outputs": [],
   "source": [
    "svd = TruncatedSVD(n_components=300)\n",
    "X_train=svd.fit_transform(X_train)\n",
    "X_test=svd.transform(X_test)\n",
    "X_CV=svd.transform(X_CV)"
   ]
  },
  {
   "cell_type": "code",
   "execution_count": 32,
   "metadata": {},
   "outputs": [
    {
     "name": "stdout",
     "output_type": "stream",
     "text": [
      "\n",
      "CV accuracy for k = 1 is 79%\n",
      "\n",
      "CV accuracy for k = 3 is 83%\n",
      "\n",
      "CV accuracy for k = 5 is 85%\n",
      "\n",
      "CV accuracy for k = 7 is 86%\n",
      "\n",
      "CV accuracy for k = 9 is 87%\n",
      "\n",
      "CV accuracy for k = 11 is 87%\n",
      "\n",
      "CV accuracy for k = 13 is 87%\n",
      "\n",
      "CV accuracy for k = 15 is 87%\n",
      "\n",
      "CV accuracy for k = 17 is 87%\n",
      "\n",
      "CV accuracy for k = 19 is 87%\n"
     ]
    }
   ],
   "source": [
    "cv_scores = []\n",
    "\n",
    "    # perform 10-fold cross validation\n",
    "for k in neighbors:\n",
    "    knn = KNeighborsClassifier(n_neighbors=k, algorithm = \"kd_tree\")\n",
    "     # fitting the model on crossvalidation train\n",
    "    knn.fit(X_train, y_train)\n",
    "    # predict the response on the crossvalidation train\n",
    "    pred = knn.predict(X_CV)\n",
    "     # evaluate CV accuracy\n",
    "    acc = accuracy_score(y_CV, pred, normalize=True) * float(100)\n",
    "    cv_scores.append(acc)\n",
    "    print('\\nCV accuracy for k = %d is %d%%' % (k, acc))"
   ]
  },
  {
   "cell_type": "code",
   "execution_count": 33,
   "metadata": {
    "collapsed": true
   },
   "outputs": [],
   "source": [
    "MSE = [1 - x for x in cv_scores]"
   ]
  },
  {
   "cell_type": "code",
   "execution_count": 34,
   "metadata": {},
   "outputs": [
    {
     "name": "stdout",
     "output_type": "stream",
     "text": [
      "\n",
      "The optimal number of neighbors is 17.\n"
     ]
    }
   ],
   "source": [
    "optimal_k = neighbors[MSE.index(min(MSE))]\n",
    "print('\\nThe optimal number of neighbors is %d.' % optimal_k)"
   ]
  },
  {
   "cell_type": "code",
   "execution_count": 35,
   "metadata": {},
   "outputs": [
    {
     "data": {
      "text/plain": [
       "KNeighborsClassifier(algorithm='kd_tree', leaf_size=30, metric='minkowski',\n",
       "           metric_params=None, n_jobs=1, n_neighbors=17, p=2,\n",
       "           weights='uniform')"
      ]
     },
     "execution_count": 35,
     "metadata": {},
     "output_type": "execute_result"
    }
   ],
   "source": [
    "knn_optimal = KNeighborsClassifier(n_neighbors=optimal_k,algorithm='kd_tree')\n",
    "\n",
    "# fitting the model\n",
    "knn_optimal.fit(X_train, y_train)"
   ]
  },
  {
   "cell_type": "code",
   "execution_count": 36,
   "metadata": {
    "collapsed": true
   },
   "outputs": [],
   "source": [
    "pred = knn_optimal.predict(X_test)"
   ]
  },
  {
   "cell_type": "code",
   "execution_count": 37,
   "metadata": {},
   "outputs": [
    {
     "name": "stdout",
     "output_type": "stream",
     "text": [
      "\n",
      "The accuracy of the knn classifier for k = 17 is 86.700000%\n"
     ]
    }
   ],
   "source": [
    "acc = accuracy_score(y_test, pred) * 100\n",
    "print('\\nThe accuracy of the knn classifier for k = %d is %f%%' % (optimal_k, acc))"
   ]
  },
  {
   "cell_type": "code",
   "execution_count": 38,
   "metadata": {},
   "outputs": [
    {
     "name": "stdout",
     "output_type": "stream",
     "text": [
      "F1 Score is:\n",
      "0.815508029567\n"
     ]
    }
   ],
   "source": [
    "print(\"F1 Score is:\")\n",
    "print(f1_score(y_test, pred, average='weighted'))\n"
   ]
  },
  {
   "cell_type": "markdown",
   "metadata": {},
   "source": [
    "### Calculating K using w2v"
   ]
  },
  {
   "cell_type": "code",
   "execution_count": 39,
   "metadata": {},
   "outputs": [
    {
     "name": "stdout",
     "output_type": "stream",
     "text": [
      "(30000,) (30000,) (10000,)\n"
     ]
    }
   ],
   "source": [
    "from gensim.models import Word2Vec\n",
    "X_1=X[:math.ceil(len(final)*.8)]\n",
    "y_1=y[:math.ceil(len(final)*.8)]\n",
    "X_test=X[math.ceil(len(final)*.8):]\n",
    "y_test=y[math.ceil(len(final)*.8):]\n",
    "\n",
    "X_train=X_1[:math.ceil(len(final)*.6)]\n",
    "y_train=y_1[:math.ceil(len(final)*.6)]\n",
    "X_CV=X_1[math.ceil(len(final)*.6):]\n",
    "y_CV=y_1[math.ceil(len(final)*.6):]\n",
    "\n",
    "print(X_train.shape,y_train.shape,X_CV.shape)"
   ]
  },
  {
   "cell_type": "code",
   "execution_count": 42,
   "metadata": {
    "collapsed": true
   },
   "outputs": [],
   "source": [
    "# Train your own Word2Vec model using your own train corpus\n",
    "import gensim\n",
    "\n",
    "\n",
    "list_of_sent=[]\n",
    "    \n",
    "for sent in X_train:\n",
    "    filtered_sentence=[]\n",
    "    sent=cleanhtml(sent)\n",
    "    for w in sent.split():\n",
    "        for cleaned_words in cleanpunc(w).split():\n",
    "            if(cleaned_words.isalpha()):    \n",
    "                filtered_sentence.append(cleaned_words.lower())\n",
    "            else:\n",
    "                continue \n",
    "    list_of_sent.append(filtered_sentence)"
   ]
  },
  {
   "cell_type": "code",
   "execution_count": 43,
   "metadata": {},
   "outputs": [
    {
     "name": "stdout",
     "output_type": "stream",
     "text": [
      "['this', 'witti', 'littl', 'book', 'make', 'son', 'laugh', 'loud', 'recit', 'the', 'car', 'were', 'drive', 'along', 'and', 'alway', 'can', 'sing', 'the', 'refrain', 'hes', 'learn', 'about', 'whale', 'india', 'droop', 'rose', 'love', 'all', 'the', 'new', 'word', 'this', 'book', 'introduc', 'and', 'the', 'silli', 'all', 'this', 'classic', 'book', 'will', 'bet', 'son', 'will', 'still', 'abl', 'recit', 'from', 'memori', 'when', 'colleg']\n"
     ]
    }
   ],
   "source": [
    "print(list_of_sent[0])"
   ]
  },
  {
   "cell_type": "code",
   "execution_count": 44,
   "metadata": {
    "collapsed": true
   },
   "outputs": [],
   "source": [
    "w2v_model=gensim.models.Word2Vec(list_of_sent,min_count=5,size=50, workers=4)"
   ]
  },
  {
   "cell_type": "code",
   "execution_count": 45,
   "metadata": {
    "collapsed": true
   },
   "outputs": [],
   "source": [
    "w2v = list(w2v_model.wv.vocab)"
   ]
  },
  {
   "cell_type": "code",
   "execution_count": null,
   "metadata": {
    "collapsed": true
   },
   "outputs": [],
   "source": []
  },
  {
   "cell_type": "code",
   "execution_count": 46,
   "metadata": {},
   "outputs": [
    {
     "name": "stdout",
     "output_type": "stream",
     "text": [
      "number of words that occured minimum 5 times  7806\n"
     ]
    }
   ],
   "source": [
    "print(\"number of words that occured minimum 5 times \",len(w2v))"
   ]
  },
  {
   "cell_type": "code",
   "execution_count": 47,
   "metadata": {},
   "outputs": [
    {
     "name": "stdout",
     "output_type": "stream",
     "text": [
      "sample words  ['this', 'littl', 'book', 'make', 'son', 'laugh', 'loud', 'the', 'car', 'were', 'drive', 'along', 'and', 'alway', 'can', 'sing', 'hes', 'learn', 'about', 'india', 'rose', 'love', 'all', 'new', 'word', 'introduc', 'silli', 'classic', 'will', 'bet', 'still', 'abl', 'from', 'memori', 'when', 'colleg', 'rememb', 'see', 'show', 'air', 'televis', 'year', 'ago', 'was', 'child', 'sister', 'later', 'bought', 'which', 'have']\n"
     ]
    }
   ],
   "source": [
    "print(\"sample words \", w2v[0:50])"
   ]
  },
  {
   "cell_type": "markdown",
   "metadata": {},
   "source": [
    "### Average W2V"
   ]
  },
  {
   "cell_type": "code",
   "execution_count": 48,
   "metadata": {},
   "outputs": [
    {
     "name": "stderr",
     "output_type": "stream",
     "text": [
      "100%|████████████████████████████████████████████████████████████████████████████| 30000/30000 [34:17<00:00, 20.09it/s]\n"
     ]
    },
    {
     "name": "stdout",
     "output_type": "stream",
     "text": [
      "30000\n",
      "50\n"
     ]
    }
   ],
   "source": [
    "# average Word2Vec\n",
    "# compute average word2vec for each review.\n",
    "from tqdm import tqdm\n",
    "sent_vectors = []; # the avg-w2v for each sentence/review is stored in this list\n",
    "for sent in tqdm(X_train): # for each review/sentence\n",
    "    sent_vec = np.zeros(50) # as word vectors are of zero length\n",
    "    cnt_words =0; # num of words with a valid vector in the sentence/review\n",
    "    for word in sent: # for each word in a review/sentence\n",
    "        if word in w2v:\n",
    "            vec = w2v_model.wv[word]\n",
    "            sent_vec += vec\n",
    "            cnt_words += 1\n",
    "    if cnt_words != 0:\n",
    "        sent_vec /= cnt_words\n",
    "    sent_vectors.append(sent_vec)\n",
    "print(len(sent_vectors))\n",
    "print(len(sent_vectors[0]))"
   ]
  },
  {
   "cell_type": "code",
   "execution_count": 49,
   "metadata": {},
   "outputs": [
    {
     "name": "stderr",
     "output_type": "stream",
     "text": [
      "100%|████████████████████████████████████████████████████████████████████████████| 10000/10000 [11:34<00:00, 14.41it/s]\n"
     ]
    },
    {
     "name": "stdout",
     "output_type": "stream",
     "text": [
      "10000\n",
      "50\n"
     ]
    }
   ],
   "source": [
    "# average Word2Vec\n",
    "# compute average word2vec for each review.\n",
    "\n",
    "sent_vectors_test = []; # the avg-w2v for each sentence/review is stored in this list\n",
    "for sent in tqdm(X_test): # for each review/sentence\n",
    "    sent_vec = np.zeros(50) # as word vectors are of zero length\n",
    "    cnt_words =0; # num of words with a valid vector in the sentence/review\n",
    "    for word in sent: # for each word in a review/sentence\n",
    "        if word in w2v:\n",
    "            vec = w2v_model.wv[word]\n",
    "            sent_vec += vec\n",
    "            cnt_words += 1\n",
    "    if cnt_words != 0:\n",
    "        sent_vec /= cnt_words\n",
    "    sent_vectors_test.append(sent_vec)\n",
    "print(len(sent_vectors_test))\n",
    "print(len(sent_vectors_test[0]))"
   ]
  },
  {
   "cell_type": "code",
   "execution_count": 50,
   "metadata": {},
   "outputs": [
    {
     "name": "stderr",
     "output_type": "stream",
     "text": [
      "100%|████████████████████████████████████████████████████████████████████████████| 10000/10000 [10:53<00:00, 15.30it/s]\n"
     ]
    },
    {
     "name": "stdout",
     "output_type": "stream",
     "text": [
      "10000\n",
      "50\n"
     ]
    }
   ],
   "source": [
    "# average Word2Vec\n",
    "# compute average word2vec for each review.\n",
    "\n",
    "sent_vectors_CV = []; # the avg-w2v for each sentence/review is stored in this list\n",
    "for sent in tqdm(X_CV): # for each review/sentence\n",
    "    sent_vec = np.zeros(50) # as word vectors are of zero length\n",
    "    cnt_words =0; # num of words with a valid vector in the sentence/review\n",
    "    for word in sent: # for each word in a review/sentence\n",
    "        if word in w2v:\n",
    "            vec = w2v_model.wv[word]\n",
    "            sent_vec += vec\n",
    "            cnt_words += 1\n",
    "    if cnt_words != 0:\n",
    "        sent_vec /= cnt_words\n",
    "    sent_vectors_CV.append(sent_vec)\n",
    "print(len(sent_vectors_CV))\n",
    "print(len(sent_vectors_CV[0]))"
   ]
  },
  {
   "cell_type": "code",
   "execution_count": 51,
   "metadata": {
    "collapsed": true
   },
   "outputs": [],
   "source": [
    "X_train = sent_vectors\n",
    "X_test = sent_vectors_test\n",
    "X_CV= sent_vectors_CV"
   ]
  },
  {
   "cell_type": "markdown",
   "metadata": {},
   "source": [
    "\n",
    "### Performing knn using brute force algorithm for avg w2v"
   ]
  },
  {
   "cell_type": "code",
   "execution_count": 84,
   "metadata": {},
   "outputs": [
    {
     "name": "stdout",
     "output_type": "stream",
     "text": [
      "\n",
      "CV accuracy for k = 1 is 87%\n",
      "\n",
      "CV accuracy for k = 3 is 87%\n",
      "\n",
      "CV accuracy for k = 5 is 87%\n",
      "\n",
      "CV accuracy for k = 7 is 87%\n",
      "\n",
      "CV accuracy for k = 9 is 87%\n",
      "\n",
      "CV accuracy for k = 11 is 87%\n",
      "\n",
      "CV accuracy for k = 13 is 87%\n",
      "\n",
      "CV accuracy for k = 15 is 87%\n",
      "\n",
      "CV accuracy for k = 17 is 87%\n",
      "\n",
      "CV accuracy for k = 19 is 87%\n"
     ]
    }
   ],
   "source": [
    "cv_scores = []\n",
    "\n",
    "    # perform 10-fold cross validation\n",
    "for k in neighbors:\n",
    "    knn = KNeighborsClassifier(n_neighbors=k, algorithm = \"brute\")\n",
    "     # fitting the model on crossvalidation train\n",
    "    knn.fit(X_train, y_train)\n",
    "    # predict the response on the crossvalidation train\n",
    "    pred = knn.predict(X_CV)\n",
    "     # evaluate CV accuracy\n",
    "    acc = accuracy_score(y_CV, pred, normalize=True) * float(100)\n",
    "    cv_scores.append(acc)\n",
    "    print('\\nCV accuracy for k = %d is %d%%' % (k, acc))"
   ]
  },
  {
   "cell_type": "code",
   "execution_count": 85,
   "metadata": {
    "collapsed": true
   },
   "outputs": [],
   "source": [
    "MSE = [1 - x for x in cv_scores]"
   ]
  },
  {
   "cell_type": "code",
   "execution_count": 86,
   "metadata": {},
   "outputs": [
    {
     "name": "stdout",
     "output_type": "stream",
     "text": [
      "\n",
      "The optimal number of neighbors is 1.\n"
     ]
    }
   ],
   "source": [
    "optimal_k = neighbors[MSE.index(min(MSE))]\n",
    "print('\\nThe optimal number of neighbors is %d.' % optimal_k)"
   ]
  },
  {
   "cell_type": "code",
   "execution_count": 123,
   "metadata": {},
   "outputs": [
    {
     "data": {
      "text/plain": [
       "KNeighborsClassifier(algorithm='brute', leaf_size=30, metric='minkowski',\n",
       "           metric_params=None, n_jobs=1, n_neighbors=1, p=2,\n",
       "           weights='uniform')"
      ]
     },
     "execution_count": 123,
     "metadata": {},
     "output_type": "execute_result"
    }
   ],
   "source": [
    "knn_optimal = KNeighborsClassifier(n_neighbors=optimal_k,algorithm='brute')\n",
    "\n",
    "# fitting the model\n",
    "knn_optimal.fit(X_train, y_train)"
   ]
  },
  {
   "cell_type": "code",
   "execution_count": 88,
   "metadata": {
    "collapsed": true
   },
   "outputs": [],
   "source": [
    "pred = knn_optimal.predict(X_test)"
   ]
  },
  {
   "cell_type": "code",
   "execution_count": 89,
   "metadata": {},
   "outputs": [
    {
     "name": "stdout",
     "output_type": "stream",
     "text": [
      "\n",
      "The accuracy of the knn classifier for k = 1 is 13.570000%\n"
     ]
    }
   ],
   "source": [
    "acc = accuracy_score(y_test, pred) * 100\n",
    "print('\\nThe accuracy of the knn classifier for k = %d is %f%%' % (optimal_k, acc))"
   ]
  },
  {
   "cell_type": "code",
   "execution_count": 91,
   "metadata": {},
   "outputs": [
    {
     "name": "stdout",
     "output_type": "stream",
     "text": [
      "             precision    recall  f1-score   support\n",
      "\n",
      "   negative       0.14      1.00      0.24      1357\n",
      "   positive       0.00      0.00      0.00      8643\n",
      "\n",
      "avg / total       0.02      0.14      0.03     10000\n",
      "\n"
     ]
    }
   ],
   "source": [
    "print(classification_report(y_test ,pred))"
   ]
  },
  {
   "cell_type": "markdown",
   "metadata": {},
   "source": [
    "### Performing knn using kd-tree algorithm for avgw2v"
   ]
  },
  {
   "cell_type": "code",
   "execution_count": 53,
   "metadata": {
    "collapsed": true
   },
   "outputs": [],
   "source": [
    "svd = TruncatedSVD()\n",
    "X_train=svd.fit_transform(X_train)\n",
    "X_test=svd.transform(X_test)\n",
    "X_CV=svd.transform(X_CV)"
   ]
  },
  {
   "cell_type": "code",
   "execution_count": 54,
   "metadata": {},
   "outputs": [
    {
     "name": "stdout",
     "output_type": "stream",
     "text": [
      "\n",
      "CV accuracy for k = 1 is 12%\n",
      "\n",
      "CV accuracy for k = 3 is 87%\n",
      "\n",
      "CV accuracy for k = 5 is 87%\n",
      "\n",
      "CV accuracy for k = 7 is 87%\n",
      "\n",
      "CV accuracy for k = 9 is 87%\n",
      "\n",
      "CV accuracy for k = 11 is 87%\n",
      "\n",
      "CV accuracy for k = 13 is 87%\n",
      "\n",
      "CV accuracy for k = 15 is 87%\n",
      "\n",
      "CV accuracy for k = 17 is 87%\n",
      "\n",
      "CV accuracy for k = 19 is 87%\n"
     ]
    }
   ],
   "source": [
    "cv_scores = []\n",
    "\n",
    "    # perform 10-fold cross validation\n",
    "for k in neighbors:\n",
    "    knn = KNeighborsClassifier(n_neighbors=k, algorithm = \"kd_tree\")\n",
    "     # fitting the model on crossvalidation train\n",
    "    knn.fit(X_train, y_train)\n",
    "    # predict the response on the crossvalidation train\n",
    "    pred = knn.predict(X_CV)\n",
    "     # evaluate CV accuracy\n",
    "    acc = accuracy_score(y_CV, pred, normalize=True) * float(100)\n",
    "    cv_scores.append(acc)\n",
    "    print('\\nCV accuracy for k = %d is %d%%' % (k, acc))"
   ]
  },
  {
   "cell_type": "code",
   "execution_count": 55,
   "metadata": {
    "collapsed": true
   },
   "outputs": [],
   "source": [
    "MSE = [1 - x for x in cv_scores]"
   ]
  },
  {
   "cell_type": "code",
   "execution_count": 56,
   "metadata": {},
   "outputs": [
    {
     "name": "stdout",
     "output_type": "stream",
     "text": [
      "\n",
      "The optimal number of neighbors is 3.\n"
     ]
    }
   ],
   "source": [
    "optimal_k = neighbors[MSE.index(min(MSE))]\n",
    "print('\\nThe optimal number of neighbors is %d.' % optimal_k)"
   ]
  },
  {
   "cell_type": "code",
   "execution_count": 57,
   "metadata": {},
   "outputs": [
    {
     "data": {
      "text/plain": [
       "KNeighborsClassifier(algorithm='auto', leaf_size=30, metric='minkowski',\n",
       "           metric_params=None, n_jobs=1, n_neighbors=3, p=2,\n",
       "           weights='uniform')"
      ]
     },
     "execution_count": 57,
     "metadata": {},
     "output_type": "execute_result"
    }
   ],
   "source": [
    "knn_optimal = KNeighborsClassifier(n_neighbors=optimal_k)\n",
    "\n",
    "# fitting the model\n",
    "knn_optimal.fit(X_train, y_train)"
   ]
  },
  {
   "cell_type": "code",
   "execution_count": 58,
   "metadata": {
    "collapsed": true
   },
   "outputs": [],
   "source": [
    "pred = knn_optimal.predict(X_test)"
   ]
  },
  {
   "cell_type": "code",
   "execution_count": 59,
   "metadata": {},
   "outputs": [
    {
     "name": "stdout",
     "output_type": "stream",
     "text": [
      "\n",
      "The accuracy of the knn classifier for k = 3 is 86.430000%\n"
     ]
    }
   ],
   "source": [
    "acc = accuracy_score(y_test, pred) * 100\n",
    "print('\\nThe accuracy of the knn classifier for k = %d is %f%%' % (optimal_k, acc))"
   ]
  },
  {
   "cell_type": "code",
   "execution_count": 60,
   "metadata": {},
   "outputs": [
    {
     "name": "stdout",
     "output_type": "stream",
     "text": [
      "F1 Score is:\n",
      "0.801388714263\n"
     ]
    }
   ],
   "source": [
    "print(\"F1 Score is:\")\n",
    "print(f1_score(y_test, pred, average='weighted'))"
   ]
  },
  {
   "cell_type": "markdown",
   "metadata": {},
   "source": [
    "### tf-idf W2V"
   ]
  },
  {
   "cell_type": "code",
   "execution_count": 61,
   "metadata": {},
   "outputs": [
    {
     "name": "stdout",
     "output_type": "stream",
     "text": [
      "(30000,) (30000,) (10000,)\n"
     ]
    }
   ],
   "source": [
    "X_1=X[:math.ceil(len(final)*.8)]\n",
    "y_1=y[:math.ceil(len(final)*.8)]\n",
    "X_test=X[math.ceil(len(final)*.8):]\n",
    "y_test=y[math.ceil(len(final)*.8):]\n",
    "\n",
    "X_train=X_1[:math.ceil(len(final)*.6)]\n",
    "y_train=y_1[:math.ceil(len(final)*.6)]\n",
    "X_CV=X_1[math.ceil(len(final)*.6):]\n",
    "y_CV=y_1[math.ceil(len(final)*.6):]\n",
    "\n",
    "print(X_train.shape,y_train.shape,X_CV.shape)"
   ]
  },
  {
   "cell_type": "code",
   "execution_count": 62,
   "metadata": {
    "collapsed": true
   },
   "outputs": [],
   "source": [
    "model = TfidfVectorizer()\n",
    "tf_idf_matrix = model.fit_transform(X_train)\n",
    "# we are converting a dictionary with word as a key, and the idf as a value\n",
    "dictionary = dict(zip(model.get_feature_names(), list(model.idf_)))"
   ]
  },
  {
   "cell_type": "code",
   "execution_count": 63,
   "metadata": {},
   "outputs": [
    {
     "name": "stderr",
     "output_type": "stream",
     "text": [
      "100%|████████████████████████████████████████████████████████████████████████████| 30000/30000 [33:24<00:00, 14.96it/s]\n"
     ]
    }
   ],
   "source": [
    "# TF-IDF weighted Word2Vec\n",
    "tfidf_feat = model.get_feature_names() # tfidf words/col-names\n",
    "# final_tf_idf is the sparse matrix with row= sentence, col=word and cell_val = tfidf\n",
    "\n",
    "tfidf_sent_vectors = []; # the tfidf-w2v for each sentence/review is stored in this list\n",
    "row=0;\n",
    "for sent in tqdm(X_train): # for each review/sentence \n",
    "    sent_vec = np.zeros(50) # as word vectors are of zero length\n",
    "    weight_sum =0; # num of words with a valid vector in the sentence/review\n",
    "    for word in sent: # for each word in a review/sentence\n",
    "        if word in w2v:\n",
    "            vec = w2v_model.wv[word]\n",
    "#             tf_idf = tf_idf_matrix[row, tfidf_feat.index(word)]\n",
    "            # to reduce the computation we are \n",
    "            # dictionary[word] = idf value of word in whole courpus\n",
    "            # sent.count(word) = tf valeus of word in this review\n",
    "            tf_idf = dictionary[word]*sent.count(word)\n",
    "            sent_vec += (vec * tf_idf)\n",
    "            weight_sum += tf_idf\n",
    "    if weight_sum != 0:\n",
    "        sent_vec /= weight_sum\n",
    "    tfidf_sent_vectors.append(sent_vec)\n",
    "    row += 1 "
   ]
  },
  {
   "cell_type": "code",
   "execution_count": 64,
   "metadata": {},
   "outputs": [
    {
     "name": "stderr",
     "output_type": "stream",
     "text": [
      "100%|████████████████████████████████████████████████████████████████████████████| 10000/10000 [11:43<00:00, 14.22it/s]\n"
     ]
    }
   ],
   "source": [
    "tfidf_sent_vectors_test = []; # the tfidf-w2v for each sentence/review is stored in this list\n",
    "row=0;\n",
    "for sent in tqdm(X_test): # for each review/sentence \n",
    "    sent_vec = np.zeros(50) # as word vectors are of zero length\n",
    "    weight_sum =0; # num of words with a valid vector in the sentence/review\n",
    "    for word in sent: # for each word in a review/sentence\n",
    "        if word in w2v:\n",
    "            vec = w2v_model.wv[word]\n",
    "#             tf_idf = tf_idf_matrix[row, tfidf_feat.index(word)]\n",
    "            # to reduce the computation we are \n",
    "            # dictionary[word] = idf value of word in whole courpus\n",
    "            # sent.count(word) = tf valeus of word in this review\n",
    "            tf_idf = dictionary[word]*sent.count(word)\n",
    "            sent_vec += (vec * tf_idf)\n",
    "            weight_sum += tf_idf\n",
    "    if weight_sum != 0:\n",
    "        sent_vec /= weight_sum\n",
    "    tfidf_sent_vectors_test.append(sent_vec)\n",
    "    row += 1 "
   ]
  },
  {
   "cell_type": "code",
   "execution_count": 65,
   "metadata": {},
   "outputs": [
    {
     "name": "stderr",
     "output_type": "stream",
     "text": [
      "100%|████████████████████████████████████████████████████████████████████████████| 10000/10000 [11:17<00:00, 14.75it/s]\n"
     ]
    }
   ],
   "source": [
    "tfidf_sent_vectors_CV = []; # the tfidf-w2v for each sentence/review is stored in this list\n",
    "row=0;\n",
    "for sent in tqdm(X_CV): # for each review/sentence \n",
    "    sent_vec = np.zeros(50) # as word vectors are of zero length\n",
    "    weight_sum =0; # num of words with a valid vector in the sentence/review\n",
    "    for word in sent: # for each word in a review/sentence\n",
    "        if word in w2v:\n",
    "            vec = w2v_model.wv[word]\n",
    "#             tf_idf = tf_idf_matrix[row, tfidf_feat.index(word)]\n",
    "            # to reduce the computation we are \n",
    "            # dictionary[word] = idf value of word in whole courpus\n",
    "            # sent.count(word) = tf valeus of word in this review\n",
    "            tf_idf = dictionary[word]*sent.count(word)\n",
    "            sent_vec += (vec * tf_idf)\n",
    "            weight_sum += tf_idf\n",
    "    if weight_sum != 0:\n",
    "        sent_vec /= weight_sum\n",
    "    tfidf_sent_vectors_CV.append(sent_vec)\n",
    "    row += 1 "
   ]
  },
  {
   "cell_type": "code",
   "execution_count": 66,
   "metadata": {
    "collapsed": true
   },
   "outputs": [],
   "source": [
    "X_train = tfidf_sent_vectors\n",
    "X_test = tfidf_sent_vectors_test\n",
    "X_CV=tfidf_sent_vectors_CV"
   ]
  },
  {
   "cell_type": "markdown",
   "metadata": {},
   "source": [
    "### Performing knn using brute force algorithm for tf-idf w2v"
   ]
  },
  {
   "cell_type": "code",
   "execution_count": 107,
   "metadata": {},
   "outputs": [
    {
     "name": "stdout",
     "output_type": "stream",
     "text": [
      "\n",
      "CV accuracy for k = 1 is 87%\n",
      "\n",
      "CV accuracy for k = 3 is 87%\n",
      "\n",
      "CV accuracy for k = 5 is 87%\n",
      "\n",
      "CV accuracy for k = 7 is 87%\n",
      "\n",
      "CV accuracy for k = 9 is 87%\n",
      "\n",
      "CV accuracy for k = 11 is 87%\n",
      "\n",
      "CV accuracy for k = 13 is 87%\n",
      "\n",
      "CV accuracy for k = 15 is 87%\n",
      "\n",
      "CV accuracy for k = 17 is 87%\n",
      "\n",
      "CV accuracy for k = 19 is 87%\n"
     ]
    }
   ],
   "source": [
    "cv_scores = []\n",
    "\n",
    "    # perform 10-fold cross validation\n",
    "for k in neighbors:\n",
    "    knn = KNeighborsClassifier(n_neighbors=k, algorithm = \"brute\")\n",
    "     # fitting the model on crossvalidation train\n",
    "    knn.fit(X_train, y_train)\n",
    "    # predict the response on the crossvalidation train\n",
    "    pred = knn.predict(X_CV)\n",
    "     # evaluate CV accuracy\n",
    "    acc = accuracy_score(y_CV, pred, normalize=True) * float(100)\n",
    "    cv_scores.append(acc)\n",
    "    print('\\nCV accuracy for k = %d is %d%%' % (k, acc))"
   ]
  },
  {
   "cell_type": "code",
   "execution_count": 108,
   "metadata": {},
   "outputs": [
    {
     "name": "stdout",
     "output_type": "stream",
     "text": [
      "\n",
      "The optimal number of neighbors is 1.\n"
     ]
    }
   ],
   "source": [
    "MSE = [1 - x for x in cv_scores]\n",
    "optimal_k = neighbors[MSE.index(min(MSE))]\n",
    "print('\\nThe optimal number of neighbors is %d.' % optimal_k)"
   ]
  },
  {
   "cell_type": "code",
   "execution_count": 110,
   "metadata": {},
   "outputs": [
    {
     "data": {
      "text/plain": [
       "KNeighborsClassifier(algorithm='brute', leaf_size=30, metric='minkowski',\n",
       "           metric_params=None, n_jobs=1, n_neighbors=1, p=2,\n",
       "           weights='uniform')"
      ]
     },
     "execution_count": 110,
     "metadata": {},
     "output_type": "execute_result"
    }
   ],
   "source": [
    "knn_optimal = KNeighborsClassifier(n_neighbors=optimal_k,algorithm = \"brute\")\n",
    "\n",
    "# fitting the model\n",
    "knn_optimal.fit(X_train, y_train)"
   ]
  },
  {
   "cell_type": "code",
   "execution_count": 111,
   "metadata": {
    "collapsed": true
   },
   "outputs": [],
   "source": [
    "pred = knn_optimal.predict(X_test)"
   ]
  },
  {
   "cell_type": "code",
   "execution_count": 112,
   "metadata": {},
   "outputs": [
    {
     "name": "stdout",
     "output_type": "stream",
     "text": [
      "\n",
      "The accuracy of the knn classifier for k = 1 is 86.430000%\n"
     ]
    }
   ],
   "source": [
    "acc = accuracy_score(y_test, pred) * 100\n",
    "print('\\nThe accuracy of the knn classifier for k = %d is %f%%' % (optimal_k, acc))"
   ]
  },
  {
   "cell_type": "code",
   "execution_count": 115,
   "metadata": {},
   "outputs": [
    {
     "data": {
      "image/png": "[encoded data removed]",
      "text/plain": [
       "<matplotlib.figure.Figure at 0x1f7947e1978>"
      ]
     },
     "metadata": {},
     "output_type": "display_data"
    }
   ],
   "source": [
    "array=confusion_matrix(y_test, pred)\n",
    "df_cm = pd.DataFrame(array, range(2),\n",
    "                  range(2))\n",
    "#plt.figure(figsize = (10,7))\n",
    "sns.set(font_scale=1.4)#for label size\n",
    "sns.heatmap(df_cm, annot=True,annot_kws={\"size\": 16})\n",
    "plt.xlabel('Predicted')\n",
    "plt.ylabel('True')\n",
    "plt.show()"
   ]
  },
  {
   "cell_type": "code",
   "execution_count": 114,
   "metadata": {},
   "outputs": [
    {
     "name": "stdout",
     "output_type": "stream",
     "text": [
      "             precision    recall  f1-score   support\n",
      "\n",
      "   negative       0.00      0.00      0.00      1357\n",
      "   positive       0.86      1.00      0.93      8643\n",
      "\n",
      "avg / total       0.75      0.86      0.80     10000\n",
      "\n"
     ]
    }
   ],
   "source": [
    "print(classification_report(y_test ,pred))\n"
   ]
  },
  {
   "cell_type": "markdown",
   "metadata": {},
   "source": [
    "### confusion matrix described\n",
    "\n",
    "In above confusion matrix(used to describe performence of classifier)\n",
    "\n",
    "* tn(true negative) = 0, tp(true positive) = 8600, fn(false negative) = 0, fp(false positive) = 1400\n",
    "* And as it is shows in classification report overall accuracy(i.e. how often is the classifier correct?) = (tp+tn)/total = (8600+0)/10000 = ~86%\n",
    "* And Overall error rate/misclassification rate or 1-accuracy(i.e. how often it is wrong?) --> (fn+fp)/total = (0+1400)/10000 = ~14%\n",
    "* precision --> When it predicts +ve, how often is it correct? = tp/predicted +ve = 8600/10000 = ~86%\n",
    "* True Positive rate(tpr)/recall --> When it is actually +ve, how often does it predict +ve? = tp/(real/true/actual +ve) = 8600/8643 = ~99.6%\n",
    "* Specificity(True Negative Rate)--> When it's actually no, how often does it predict no? = tn/actual negative = 0/1357 = ~0%. The best specificity is 1.0, whereas the worst is 0.0 .\n",
    "\n",
    "* F1 score/F-score/F-measure is weighted avg of precision and recall(tpr)=0.926\n",
    "* support is number of elements in each class(+ve and -ve)."
   ]
  },
  {
   "cell_type": "markdown",
   "metadata": {},
   "source": [
    "### Performing knn using kd-tree algorithm for tf-idf w2v"
   ]
  },
  {
   "cell_type": "code",
   "execution_count": 67,
   "metadata": {
    "collapsed": true
   },
   "outputs": [],
   "source": [
    "svd = TruncatedSVD()\n",
    "X_train=svd.fit_transform(X_train)\n",
    "X_test=svd.transform(X_test)\n",
    "X_CV=svd.transform(X_CV)"
   ]
  },
  {
   "cell_type": "code",
   "execution_count": 68,
   "metadata": {},
   "outputs": [
    {
     "name": "stdout",
     "output_type": "stream",
     "text": [
      "\n",
      "CV accuracy for k = 1 is 12%\n",
      "\n",
      "CV accuracy for k = 3 is 87%\n",
      "\n",
      "CV accuracy for k = 5 is 87%\n",
      "\n",
      "CV accuracy for k = 7 is 87%\n",
      "\n",
      "CV accuracy for k = 9 is 87%\n",
      "\n",
      "CV accuracy for k = 11 is 87%\n",
      "\n",
      "CV accuracy for k = 13 is 87%\n",
      "\n",
      "CV accuracy for k = 15 is 87%\n",
      "\n",
      "CV accuracy for k = 17 is 87%\n",
      "\n",
      "CV accuracy for k = 19 is 87%\n"
     ]
    }
   ],
   "source": [
    "cv_scores = []\n",
    "\n",
    "    # perform 10-fold cross validation\n",
    "for k in neighbors:\n",
    "    knn = KNeighborsClassifier(n_neighbors=k, algorithm = \"kd_tree\")\n",
    "     # fitting the model on crossvalidation train\n",
    "    knn.fit(X_train, y_train)\n",
    "    # predict the response on the crossvalidation train\n",
    "    pred = knn.predict(X_CV)\n",
    "     # evaluate CV accuracy\n",
    "    acc = accuracy_score(y_CV, pred, normalize=True) * float(100)\n",
    "    cv_scores.append(acc)\n",
    "    print('\\nCV accuracy for k = %d is %d%%' % (k, acc))"
   ]
  },
  {
   "cell_type": "code",
   "execution_count": 69,
   "metadata": {},
   "outputs": [
    {
     "name": "stdout",
     "output_type": "stream",
     "text": [
      "\n",
      "The optimal number of neighbors is 3.\n"
     ]
    }
   ],
   "source": [
    "MSE = [1 - x for x in cv_scores]\n",
    "optimal_k = neighbors[MSE.index(min(MSE))]\n",
    "print('\\nThe optimal number of neighbors is %d.' % optimal_k)"
   ]
  },
  {
   "cell_type": "code",
   "execution_count": 70,
   "metadata": {},
   "outputs": [
    {
     "data": {
      "text/plain": [
       "KNeighborsClassifier(algorithm='kd_tree', leaf_size=30, metric='minkowski',\n",
       "           metric_params=None, n_jobs=1, n_neighbors=3, p=2,\n",
       "           weights='uniform')"
      ]
     },
     "execution_count": 70,
     "metadata": {},
     "output_type": "execute_result"
    }
   ],
   "source": [
    "knn_optimal = KNeighborsClassifier(n_neighbors=optimal_k,algorithm='kd_tree')\n",
    "\n",
    "# fitting the model\n",
    "knn_optimal.fit(X_train, y_train)"
   ]
  },
  {
   "cell_type": "code",
   "execution_count": 71,
   "metadata": {
    "collapsed": true
   },
   "outputs": [],
   "source": [
    "pred = knn_optimal.predict(X_test)"
   ]
  },
  {
   "cell_type": "code",
   "execution_count": 72,
   "metadata": {},
   "outputs": [
    {
     "name": "stdout",
     "output_type": "stream",
     "text": [
      "\n",
      "The accuracy of the knn classifier for k = 3 is 86.430000%\n"
     ]
    }
   ],
   "source": [
    "acc = accuracy_score(y_test, pred) * 100\n",
    "print('\\nThe accuracy of the knn classifier for k = %d is %f%%' % (optimal_k, acc))"
   ]
  },
  {
   "cell_type": "code",
   "execution_count": 73,
   "metadata": {},
   "outputs": [
    {
     "name": "stdout",
     "output_type": "stream",
     "text": [
      "F1 Score is:\n",
      "0.801388714263\n"
     ]
    }
   ],
   "source": [
    "print(\"F1 Score is:\")\n",
    "print(f1_score(y_test, pred, average='weighted'))"
   ]
  },
  {
   "cell_type": "markdown",
   "metadata": {},
   "source": [
    "### Conclusions:\n",
    "\n"
   ]
  },
  {
   "cell_type": "code",
   "execution_count": 76,
   "metadata": {
    "collapsed": true
   },
   "outputs": [],
   "source": [
    "from prettytable import PrettyTable\n",
    "    \n",
    "x = PrettyTable()\n",
    "\n",
    "x.field_names = [\"Vectorization_Technique\", \"Best 'K'\", \"Accuracy on Test Data(%)\", \"Algorithm\",\"F1 Score\"]\n",
    "\n",
    "x.add_row([\"BOW\", 7, 86.670000, 'brute',0.928])\n",
    "x.add_row([\"BOW\", 15, 86.670000, 'kd_tree',0.818])\n",
    "x.add_row([\"tf-idf\", 7, 87.520000, 'brute',0.932])\n",
    "x.add_row([\"tf-idf\", 17, 87.520000, 'kd_tree',0.815])\n",
    "x.add_row([\"Average w2v\", 1, 13.570000, 'brute',0.926])\n",
    "x.add_row([\"Average w2v\", 3, 13.570000, 'kd_tree',0.801])\n",
    "x.add_row([\"tf-idf w2v\", 1, 86.430000, 'brute',0.926])\n",
    "x.add_row([\"tf-idf w2v\", 3, 86.430000, 'kd_tree',0.801])"
   ]
  },
  {
   "cell_type": "code",
   "execution_count": 77,
   "metadata": {},
   "outputs": [
    {
     "name": "stdout",
     "output_type": "stream",
     "text": [
      "+-------------------------+----------+--------------------------+-----------+----------+\n",
      "| Vectorization_Technique | Best 'K' | Accuracy on Test Data(%) | Algorithm | F1 Score |\n",
      "+-------------------------+----------+--------------------------+-----------+----------+\n",
      "|           BOW           |    7     |          86.67           |   brute   |  0.928   |\n",
      "|           BOW           |    15    |          86.67           |  kd_tree  |  0.818   |\n",
      "|          tf-idf         |    7     |          87.52           |   brute   |  0.932   |\n",
      "|          tf-idf         |    17    |          87.52           |  kd_tree  |  0.815   |\n",
      "|       Average w2v       |    1     |          13.57           |   brute   |  0.926   |\n",
      "|       Average w2v       |    3     |          13.57           |  kd_tree  |  0.801   |\n",
      "|        tf-idf w2v       |    1     |          86.43           |   brute   |  0.926   |\n",
      "|        tf-idf w2v       |    3     |          86.43           |  kd_tree  |  0.801   |\n",
      "+-------------------------+----------+--------------------------+-----------+----------+\n"
     ]
    }
   ],
   "source": [
    "print(x)"
   ]
  },
  {
   "cell_type": "markdown",
   "metadata": {},
   "source": [
    "* As we clearly see that for tf-idf accuracy is 87.52 and F1 Score is 0.932(which is maximum). Hence, we conclude that tf-idf vectorization model is good.\n"
   ]
  },
  {
   "cell_type": "code",
   "execution_count": null,
   "metadata": {
    "collapsed": true
   },
   "outputs": [],
   "source": []
  }
 ],
 "metadata": {
  "kernelspec": {
   "display_name": "Python 3",
   "language": "python",
   "name": "python3"
  },
  "language_info": {
   "codemirror_mode": {
    "name": "ipython",
    "version": 3
   },
   "file_extension": ".py",
   "mimetype": "text/x-python",
   "name": "python",
   "nbconvert_exporter": "python",
   "pygments_lexer": "ipython3",
   "version": "3.6.3"
  }
 },
 "nbformat": 4,
 "nbformat_minor": 2
}
